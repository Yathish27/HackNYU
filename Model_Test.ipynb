{
  "cells": [
    {
      "cell_type": "code",
      "execution_count": null,
      "id": "98442fef-1d45-44df-80c9-f671013b76bb",
      "metadata": {
        "id": "98442fef-1d45-44df-80c9-f671013b76bb",
        "outputId": "64ffcf99-89fb-475d-8c4a-75fa4c39d2fb"
      },
      "outputs": [
        {
          "name": "stdout",
          "output_type": "stream",
          "text": [
            "Models loaded successfully!\n"
          ]
        }
      ],
      "source": [
        "import pickle\n",
        "import os\n",
        "\n",
        "# Define the model directory\n",
        "model_dir = \"C:/Users/serdu/Desktop/Security/models\"\n",
        "\n",
        "# Load the Spam Model\n",
        "with open(os.path.join(model_dir, \"spam_model.pkl\"), \"rb\") as model_file:\n",
        "    spam_model = pickle.load(model_file)\n",
        "\n",
        "with open(os.path.join(model_dir, \"spam_vectorizer.pkl\"), \"rb\") as vectorizer_file:\n",
        "    spam_vectorizer = pickle.load(vectorizer_file)\n",
        "\n",
        "# Load the Phishing Model\n",
        "with open(os.path.join(model_dir, \"phish_model.pkl\"), \"rb\") as model_file:\n",
        "    phish_model = pickle.load(model_file)\n",
        "\n",
        "with open(os.path.join(model_dir, \"phish_vectorizer.pkl\"), \"rb\") as vectorizer_file:\n",
        "    phish_vectorizer = pickle.load(vectorizer_file)\n",
        "\n",
        "print(\"Models loaded successfully!\")"
      ]
    },
    {
      "cell_type": "code",
      "execution_count": null,
      "id": "32b9e083-23c8-4652-ae6e-2970f0b2cfeb",
      "metadata": {
        "id": "32b9e083-23c8-4652-ae6e-2970f0b2cfeb"
      },
      "outputs": [],
      "source": [
        "def analyze_email(email_text):\n",
        "    \"\"\"Analyze an email for both spam and phishing content with confidence scores.\"\"\"\n",
        "\n",
        "    # Spam Detection\n",
        "    spam_tfidf = spam_vectorizer.transform([email_text])\n",
        "    spam_prob = spam_model.predict_proba(spam_tfidf)[0][1]  # Probability of spam\n",
        "    spam_label = \"Spam\" if spam_prob > 0.5 else \"Not Spam\"\n",
        "    spam_confidence = round(spam_prob * 100, 2) if spam_prob > 0.5 else round((1 - spam_prob) * 100, 2)\n",
        "\n",
        "    # Phishing Detection\n",
        "    phish_tfidf = phish_vectorizer.transform([email_text])\n",
        "    phish_prob = phish_model.predict_proba(phish_tfidf)[0][1]  # Probability of phishing\n",
        "    phish_label = \"Phishing\" if phish_prob > 0.5 else \"Safe\"\n",
        "    phish_confidence = round(phish_prob * 100, 2) if phish_prob > 0.5 else round((1 - phish_prob) * 100, 2)\n",
        "\n",
        "    # Print results\n",
        "    print(f\"🔍 Email: {email_text[:50]}...\")\n",
        "    print(f\"📌 Spam Check: {spam_label} (Confidence: {spam_confidence}%)\")\n",
        "    print(f\"⚠️ Phishing Check: {phish_label} (Confidence: {phish_confidence}%)\")\n",
        "    print(\"-\" * 60)\n"
      ]
    },
    {
      "cell_type": "code",
      "execution_count": null,
      "id": "c0cf0771-2e16-4636-a914-7630ef47c8a6",
      "metadata": {
        "id": "c0cf0771-2e16-4636-a914-7630ef47c8a6",
        "outputId": "7d287f6c-cf73-40b4-a8b8-299858dbd6fb"
      },
      "outputs": [
        {
          "name": "stdout",
          "output_type": "stream",
          "text": [
            "🔍 Email: We have detected unusual activity on your PayPal a...\n",
            "📌 Spam Check: Spam (Confidence: 72.01%)\n",
            "⚠️ Phishing Check: Phishing (Confidence: 95.15%)\n",
            "------------------------------------------------------------\n",
            "🔍 Email: Dear Students, This is your confirmation that you ...\n",
            "📌 Spam Check: Not Spam (Confidence: 58.08%)\n",
            "⚠️ Phishing Check: Safe (Confidence: 74.53%)\n",
            "------------------------------------------------------------\n",
            "🔍 Email: This is an automated message from your IT departme...\n",
            "📌 Spam Check: Spam (Confidence: 58.17%)\n",
            "⚠️ Phishing Check: Phishing (Confidence: 74.76%)\n",
            "------------------------------------------------------------\n",
            "🔍 Email: We've noticed unusual activity on your Amazon acco...\n",
            "📌 Spam Check: Spam (Confidence: 51.11%)\n",
            "⚠️ Phishing Check: Phishing (Confidence: 63.85%)\n",
            "------------------------------------------------------------\n"
          ]
        }
      ],
      "source": [
        "test_emails = [\n",
        "    \"We have detected unusual activity on your PayPal account. As a security measure, we have temporarily limited your account access. To restore full access, please verify your account by clicking the link below: 🔗 Click Here to Secure Your Account If you do not complete the verification within 24 hours, your account will be permanently suspended. Thank you for choosing PayPal.\",\n",
        "    \"Dear Students, This is your confirmation that you re all set for the Spring 2025 Internship Fair on Wednesday, February 12th at the Kimmel Center! Your confirmed time slot is: 1:40 PM - 2:55 PM Reminders: Line-up begins 30 minutes before your slot. You will be given a colored wristband when you arrive to check in at the fair. You ll have 75 minutes to make a great impression. Plan your time wisely to maximize your interactions across both floors. Avoid coats, backpacks or large bags since there will be no coat check.  Quick Tips:Perfect your pitch: State your name clearly and have a concise pitch ready about your skills and goals. Discuss how your expertise aligns with the company's needs. Rather than preparing full 60-90 second pitches, plan on a brief introduction, a short conversation that may occur in a group of students. Be Prepared: Make sure you ve done advance research to determine which companies at the fair will be hiring for roles you re qualified for.   Don t throw your resume at recruiters: Politely offer your resume if it naturally arises in the conversation.  Ask thoughtful questions: Show you ve done your research ahead of time and avoid questions that cover basic company information. Avoid dominating the conversation: Keep conversations brief and allow others to interact with the recruiter. Thank the recruiter: Express appreciation for their time and ask for contact information for follow-up.\",\n",
        "    \"This is an automated message from your IT department. Please ignore.\",\n",
        "    \"We've noticed unusual activity on your Amazon account. Please verify your identity.\"\n",
        "]\n",
        "\n",
        "for email in test_emails:\n",
        "    analyze_email(email)"
      ]
    },
    {
      "cell_type": "code",
      "execution_count": null,
      "id": "02e473a1-3326-4c89-800a-5a50e4154ac4",
      "metadata": {
        "id": "02e473a1-3326-4c89-800a-5a50e4154ac4"
      },
      "outputs": [],
      "source": []
    }
  ],
  "metadata": {
    "kernelspec": {
      "display_name": "Python 3 (ipykernel)",
      "language": "python",
      "name": "python3"
    },
    "language_info": {
      "codemirror_mode": {
        "name": "ipython",
        "version": 3
      },
      "file_extension": ".py",
      "mimetype": "text/x-python",
      "name": "python",
      "nbconvert_exporter": "python",
      "pygments_lexer": "ipython3",
      "version": "3.12.4"
    },
    "colab": {
      "provenance": []
    }
  },
  "nbformat": 4,
  "nbformat_minor": 5
}